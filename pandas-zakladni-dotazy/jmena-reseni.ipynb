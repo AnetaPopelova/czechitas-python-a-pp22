{
 "cells": [
  {
   "cell_type": "markdown",
   "metadata": {},
   "source": [
    "## Česká jména"
   ]
  },
  {
   "cell_type": "markdown",
   "metadata": {},
   "source": [
    "Stáhni si soubor jmena.csv, který obsahuje tabulku 100 nejpoužívanějších českých křestních jmen seřazených od nejpoužívanějšího k nejméně používanému. "
   ]
  },
  {
   "cell_type": "code",
   "execution_count": null,
   "metadata": {},
   "outputs": [],
   "source": [
    "import requests\n",
    "\n",
    "url = \"https://kodim.cz/cms/assets/kurzy/python-data-1/python-pro-data-1/zakladni-dotazy/excs/excs%3Eceska-jmena/jmena.csv\"\n",
    "r = requests.get(url, allow_redirects=True, verify=False)\n",
    "open('jmena.csv', 'wb').write(r.content)"
   ]
  },
  {
   "cell_type": "markdown",
   "metadata": {},
   "source": [
    "\n",
    "Pomocí Pandas načti tuto tabulku jako DataFrame. \n"
   ]
  },
  {
   "cell_type": "code",
   "execution_count": 11,
   "metadata": {},
   "outputs": [],
   "source": [
    "import pandas\n",
    "\n",
    "jmena = pandas.read_csv(\"jmena.csv\")\n"
   ]
  },
  {
   "cell_type": "markdown",
   "metadata": {},
   "source": [
    "\n",
    "Jako index zvol sloupec s názvem 'jméno'.\n"
   ]
  },
  {
   "cell_type": "code",
   "execution_count": 12,
   "metadata": {},
   "outputs": [],
   "source": [
    "# jako index zvol sloupec s názvem ‘jméno’.\n",
    "jmena = jmena.set_index(\"jméno\")\n",
    "\n",
    "# print(jmena.index)\n",
    "# print(jmena)"
   ]
  },
  {
   "cell_type": "markdown",
   "metadata": {},
   "source": [
    "\n",
    "Datový soubor obsahuje následující sloupečky\n",
    "\n",
    "* jméno - křestní jméno\n",
    "* četnost - počet obyvatel ČR mající toto jméno\n",
    "* věk - průměrný věk nositelů jména\n",
    "* pohlaví - zda je jméno mužské či ženské\n",
    "* svátek - datum, kdy má dané jméno svátek\n",
    "* původ - původ jména"
   ]
  },
  {
   "cell_type": "markdown",
   "metadata": {},
   "source": [
    "Vyřešte následující úkoly."
   ]
  },
  {
   "cell_type": "markdown",
   "metadata": {},
   "source": [
    "Vypište informace o jménu Jiří.\n"
   ]
  },
  {
   "cell_type": "code",
   "execution_count": 14,
   "metadata": {},
   "outputs": [
    {
     "data": {
      "text/plain": [
       "četnost    296090\n",
       "věk            49\n",
       "pohlaví         m\n",
       "svátek       24.4\n",
       "původ       řecký\n",
       "Name: Jiří, dtype: object"
      ]
     },
     "execution_count": 14,
     "metadata": {},
     "output_type": "execute_result"
    }
   ],
   "source": [
    "jmena.loc[\"Jiří\"]"
   ]
  },
  {
   "cell_type": "markdown",
   "metadata": {},
   "source": [
    "Vypište informace pro jména Martin, Zuzana a Josef.\n"
   ]
  },
  {
   "cell_type": "code",
   "execution_count": 15,
   "metadata": {},
   "outputs": [
    {
     "data": {
      "text/html": [
       "<div>\n",
       "<style scoped>\n",
       "    .dataframe tbody tr th:only-of-type {\n",
       "        vertical-align: middle;\n",
       "    }\n",
       "\n",
       "    .dataframe tbody tr th {\n",
       "        vertical-align: top;\n",
       "    }\n",
       "\n",
       "    .dataframe thead th {\n",
       "        text-align: right;\n",
       "    }\n",
       "</style>\n",
       "<table border=\"1\" class=\"dataframe\">\n",
       "  <thead>\n",
       "    <tr style=\"text-align: right;\">\n",
       "      <th></th>\n",
       "      <th>četnost</th>\n",
       "      <th>věk</th>\n",
       "      <th>pohlaví</th>\n",
       "      <th>svátek</th>\n",
       "      <th>původ</th>\n",
       "    </tr>\n",
       "    <tr>\n",
       "      <th>jméno</th>\n",
       "      <th></th>\n",
       "      <th></th>\n",
       "      <th></th>\n",
       "      <th></th>\n",
       "      <th></th>\n",
       "    </tr>\n",
       "  </thead>\n",
       "  <tbody>\n",
       "    <tr>\n",
       "      <th>Martin</th>\n",
       "      <td>188380</td>\n",
       "      <td>33</td>\n",
       "      <td>m</td>\n",
       "      <td>11.11</td>\n",
       "      <td>latinský</td>\n",
       "    </tr>\n",
       "    <tr>\n",
       "      <th>Zuzana</th>\n",
       "      <td>61382</td>\n",
       "      <td>34</td>\n",
       "      <td>ž</td>\n",
       "      <td>11.8</td>\n",
       "      <td>hebrejský</td>\n",
       "    </tr>\n",
       "    <tr>\n",
       "      <th>Josef</th>\n",
       "      <td>211317</td>\n",
       "      <td>57</td>\n",
       "      <td>m</td>\n",
       "      <td>19.3</td>\n",
       "      <td>hebrejský</td>\n",
       "    </tr>\n",
       "  </tbody>\n",
       "</table>\n",
       "</div>"
      ],
      "text/plain": [
       "        četnost  věk pohlaví svátek      původ\n",
       "jméno                                         \n",
       "Martin   188380   33       m  11.11   latinský\n",
       "Zuzana    61382   34       ž   11.8  hebrejský\n",
       "Josef    211317   57       m   19.3  hebrejský"
      ]
     },
     "execution_count": 15,
     "metadata": {},
     "output_type": "execute_result"
    }
   ],
   "source": [
    "jmena.loc[[\"Martin\", \"Zuzana\", \"Josef\"]]"
   ]
  },
  {
   "cell_type": "markdown",
   "metadata": {},
   "source": [
    "Vypište informace o všech nejčastějších jménech až po Martina.\n"
   ]
  },
  {
   "cell_type": "code",
   "execution_count": null,
   "metadata": {},
   "outputs": [],
   "source": [
    "jmena.loc[:\"Martin\"]\n",
    "\n",
    "# jmena.sort_values(by=\"jméno\").loc[:\"Martin\"]"
   ]
  },
  {
   "cell_type": "markdown",
   "metadata": {},
   "source": [
    "Vypište pouze průměrné věky osob mající jména mezi Martinem a Terezou.\n"
   ]
  },
  {
   "cell_type": "code",
   "execution_count": null,
   "metadata": {},
   "outputs": [],
   "source": [
    "jmena.loc[\"Martin\": \"Tereza\", \"věk\"]"
   ]
  },
  {
   "cell_type": "markdown",
   "metadata": {},
   "source": [
    "Vypište průměrný věk a původ pro všechna jména od Libora dolů.\n"
   ]
  },
  {
   "cell_type": "code",
   "execution_count": 17,
   "metadata": {},
   "outputs": [
    {
     "data": {
      "text/html": [
       "<div>\n",
       "<style scoped>\n",
       "    .dataframe tbody tr th:only-of-type {\n",
       "        vertical-align: middle;\n",
       "    }\n",
       "\n",
       "    .dataframe tbody tr th {\n",
       "        vertical-align: top;\n",
       "    }\n",
       "\n",
       "    .dataframe thead th {\n",
       "        text-align: right;\n",
       "    }\n",
       "</style>\n",
       "<table border=\"1\" class=\"dataframe\">\n",
       "  <thead>\n",
       "    <tr style=\"text-align: right;\">\n",
       "      <th></th>\n",
       "      <th>věk</th>\n",
       "      <th>původ</th>\n",
       "    </tr>\n",
       "    <tr>\n",
       "      <th>jméno</th>\n",
       "      <th></th>\n",
       "      <th></th>\n",
       "    </tr>\n",
       "  </thead>\n",
       "  <tbody>\n",
       "    <tr>\n",
       "      <th>Libor</th>\n",
       "      <td>44</td>\n",
       "      <td>latinský</td>\n",
       "    </tr>\n",
       "    <tr>\n",
       "      <th>Aneta</th>\n",
       "      <td>17</td>\n",
       "      <td>hebrejský</td>\n",
       "    </tr>\n",
       "    <tr>\n",
       "      <th>Simona</th>\n",
       "      <td>30</td>\n",
       "      <td>hebrejský</td>\n",
       "    </tr>\n",
       "    <tr>\n",
       "      <th>Růžena</th>\n",
       "      <td>69</td>\n",
       "      <td>slovanský</td>\n",
       "    </tr>\n",
       "    <tr>\n",
       "      <th>Radka</th>\n",
       "      <td>38</td>\n",
       "      <td>slovanský</td>\n",
       "    </tr>\n",
       "    <tr>\n",
       "      <th>Daniela</th>\n",
       "      <td>38</td>\n",
       "      <td>hebrejský</td>\n",
       "    </tr>\n",
       "    <tr>\n",
       "      <th>Denisa</th>\n",
       "      <td>23</td>\n",
       "      <td>řecký</td>\n",
       "    </tr>\n",
       "    <tr>\n",
       "      <th>Jindřich</th>\n",
       "      <td>51</td>\n",
       "      <td>německý</td>\n",
       "    </tr>\n",
       "    <tr>\n",
       "      <th>Vlastimil</th>\n",
       "      <td>54</td>\n",
       "      <td>slovanský</td>\n",
       "    </tr>\n",
       "    <tr>\n",
       "      <th>Iva</th>\n",
       "      <td>46</td>\n",
       "      <td>slovanský</td>\n",
       "    </tr>\n",
       "    <tr>\n",
       "      <th>Miloš</th>\n",
       "      <td>53</td>\n",
       "      <td>slovanský</td>\n",
       "    </tr>\n",
       "    <tr>\n",
       "      <th>Zdenka</th>\n",
       "      <td>68</td>\n",
       "      <td>slovanský</td>\n",
       "    </tr>\n",
       "  </tbody>\n",
       "</table>\n",
       "</div>"
      ],
      "text/plain": [
       "           věk      původ\n",
       "jméno                    \n",
       "Libor       44   latinský\n",
       "Aneta       17  hebrejský\n",
       "Simona      30  hebrejský\n",
       "Růžena      69  slovanský\n",
       "Radka       38  slovanský\n",
       "Daniela     38  hebrejský\n",
       "Denisa      23      řecký\n",
       "Jindřich    51    německý\n",
       "Vlastimil   54  slovanský\n",
       "Iva         46  slovanský\n",
       "Miloš       53  slovanský\n",
       "Zdenka      68  slovanský"
      ]
     },
     "execution_count": 17,
     "metadata": {},
     "output_type": "execute_result"
    }
   ],
   "source": [
    "jmena.loc[\"Libor\":,[\"věk\", \"původ\"]]"
   ]
  },
  {
   "cell_type": "markdown",
   "metadata": {},
   "source": [
    "Vypište sloupečky mezi věkem a původem pro všechna jména v tabulce."
   ]
  },
  {
   "cell_type": "code",
   "execution_count": 18,
   "metadata": {},
   "outputs": [
    {
     "data": {
      "text/html": [
       "<div>\n",
       "<style scoped>\n",
       "    .dataframe tbody tr th:only-of-type {\n",
       "        vertical-align: middle;\n",
       "    }\n",
       "\n",
       "    .dataframe tbody tr th {\n",
       "        vertical-align: top;\n",
       "    }\n",
       "\n",
       "    .dataframe thead th {\n",
       "        text-align: right;\n",
       "    }\n",
       "</style>\n",
       "<table border=\"1\" class=\"dataframe\">\n",
       "  <thead>\n",
       "    <tr style=\"text-align: right;\">\n",
       "      <th></th>\n",
       "      <th>věk</th>\n",
       "      <th>pohlaví</th>\n",
       "      <th>svátek</th>\n",
       "      <th>původ</th>\n",
       "    </tr>\n",
       "    <tr>\n",
       "      <th>jméno</th>\n",
       "      <th></th>\n",
       "      <th></th>\n",
       "      <th></th>\n",
       "      <th></th>\n",
       "    </tr>\n",
       "  </thead>\n",
       "  <tbody>\n",
       "    <tr>\n",
       "      <th>Jiří</th>\n",
       "      <td>49</td>\n",
       "      <td>m</td>\n",
       "      <td>24.4</td>\n",
       "      <td>řecký</td>\n",
       "    </tr>\n",
       "    <tr>\n",
       "      <th>Jan</th>\n",
       "      <td>40</td>\n",
       "      <td>m</td>\n",
       "      <td>24.6. a 6.7</td>\n",
       "      <td>hebrejský</td>\n",
       "    </tr>\n",
       "    <tr>\n",
       "      <th>Petr</th>\n",
       "      <td>42</td>\n",
       "      <td>m</td>\n",
       "      <td>22.2. a 29.6</td>\n",
       "      <td>řecký</td>\n",
       "    </tr>\n",
       "    <tr>\n",
       "      <th>Jana</th>\n",
       "      <td>50</td>\n",
       "      <td>ž</td>\n",
       "      <td>24.5</td>\n",
       "      <td>hebrejský</td>\n",
       "    </tr>\n",
       "    <tr>\n",
       "      <th>Marie</th>\n",
       "      <td>65</td>\n",
       "      <td>ž</td>\n",
       "      <td>12.9</td>\n",
       "      <td>hebrejský</td>\n",
       "    </tr>\n",
       "    <tr>\n",
       "      <th>...</th>\n",
       "      <td>...</td>\n",
       "      <td>...</td>\n",
       "      <td>...</td>\n",
       "      <td>...</td>\n",
       "    </tr>\n",
       "    <tr>\n",
       "      <th>Jindřich</th>\n",
       "      <td>51</td>\n",
       "      <td>m</td>\n",
       "      <td>15.7</td>\n",
       "      <td>německý</td>\n",
       "    </tr>\n",
       "    <tr>\n",
       "      <th>Vlastimil</th>\n",
       "      <td>54</td>\n",
       "      <td>m</td>\n",
       "      <td>17.3</td>\n",
       "      <td>slovanský</td>\n",
       "    </tr>\n",
       "    <tr>\n",
       "      <th>Iva</th>\n",
       "      <td>46</td>\n",
       "      <td>ž</td>\n",
       "      <td>1.12</td>\n",
       "      <td>slovanský</td>\n",
       "    </tr>\n",
       "    <tr>\n",
       "      <th>Miloš</th>\n",
       "      <td>53</td>\n",
       "      <td>m</td>\n",
       "      <td>25.1</td>\n",
       "      <td>slovanský</td>\n",
       "    </tr>\n",
       "    <tr>\n",
       "      <th>Zdenka</th>\n",
       "      <td>68</td>\n",
       "      <td>ž</td>\n",
       "      <td>23.6</td>\n",
       "      <td>slovanský</td>\n",
       "    </tr>\n",
       "  </tbody>\n",
       "</table>\n",
       "<p>100 rows × 4 columns</p>\n",
       "</div>"
      ],
      "text/plain": [
       "           věk pohlaví        svátek      původ\n",
       "jméno                                          \n",
       "Jiří        49       m          24.4      řecký\n",
       "Jan         40       m   24.6. a 6.7  hebrejský\n",
       "Petr        42       m  22.2. a 29.6      řecký\n",
       "Jana        50       ž          24.5  hebrejský\n",
       "Marie       65       ž          12.9  hebrejský\n",
       "...        ...     ...           ...        ...\n",
       "Jindřich    51       m          15.7    německý\n",
       "Vlastimil   54       m          17.3  slovanský\n",
       "Iva         46       ž          1.12  slovanský\n",
       "Miloš       53       m          25.1  slovanský\n",
       "Zdenka      68       ž          23.6  slovanský\n",
       "\n",
       "[100 rows x 4 columns]"
      ]
     },
     "execution_count": 18,
     "metadata": {},
     "output_type": "execute_result"
    }
   ],
   "source": [
    "jmena.loc[:,\"věk\":\"původ\"]"
   ]
  }
 ],
 "metadata": {
  "kernelspec": {
   "display_name": "Python 3.10.1 64-bit",
   "language": "python",
   "name": "python3"
  },
  "language_info": {
   "codemirror_mode": {
    "name": "ipython",
    "version": 3
   },
   "file_extension": ".py",
   "mimetype": "text/x-python",
   "name": "python",
   "nbconvert_exporter": "python",
   "pygments_lexer": "ipython3",
   "version": "3.10.1"
  },
  "orig_nbformat": 4,
  "vscode": {
   "interpreter": {
    "hash": "aee8b7b246df8f9039afb4144a1f6fd8d2ca17a180786b69acc140d282b71a49"
   }
  }
 },
 "nbformat": 4,
 "nbformat_minor": 2
}
