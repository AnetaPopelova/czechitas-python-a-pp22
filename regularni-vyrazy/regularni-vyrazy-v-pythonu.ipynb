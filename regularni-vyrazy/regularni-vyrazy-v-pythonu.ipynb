{
 "cells": [
  {
   "cell_type": "markdown",
   "metadata": {},
   "source": [
    "# Regulární výrazy v Pythonu"
   ]
  },
  {
   "cell_type": "markdown",
   "metadata": {},
   "source": [
    "### modul `re`"
   ]
  },
  {
   "cell_type": "code",
   "execution_count": null,
   "metadata": {},
   "outputs": [],
   "source": [
    "import re\n",
    "\n",
    "regularniVyraz = re.compile(r\"\\d{9,10}\")\n"
   ]
  },
  {
   "cell_type": "markdown",
   "metadata": {},
   "source": [
    "### funkce `match`"
   ]
  },
  {
   "cell_type": "code",
   "execution_count": null,
   "metadata": {},
   "outputs": [],
   "source": [
    "## funkce match\n",
    "## vrací objekt Match nebo None\n",
    "\n",
    "rezetec = \"9511121234\"\n",
    "print(regularniVyraz.match(rezetec))\n",
    "\n",
    "\n",
    "rezetec = \"ahoj\"\n",
    "print(regularniVyraz.match(rezetec))"
   ]
  },
  {
   "cell_type": "markdown",
   "metadata": {},
   "source": [
    "### funkce `fullmatch`"
   ]
  },
  {
   "cell_type": "code",
   "execution_count": null,
   "metadata": {},
   "outputs": [],
   "source": [
    "import re\n",
    "regularniVyraz = re.compile(r\"\\d{9,10}\")\n",
    "\n",
    "rezetec = \"9511121234\"\n",
    "print(regularniVyraz.match(rezetec))\n",
    "\n",
    "rezetec = \"9511121234$ je moje rodné číslo\"\n",
    "print(regularniVyraz.fullmatch(rezetec))"
   ]
  },
  {
   "cell_type": "markdown",
   "metadata": {},
   "source": [
    "**Zapojení podmínky**\n",
    "\n",
    "- Pokud podmínce vložíme nějaký smysluplný výraz, vyhodnotí ho jako pravda.\n",
    "- Pokud podmínce vložíme prázdnou hodnotu None, vyhodnotí ji jako nepravda.\n",
    "\n"
   ]
  },
  {
   "cell_type": "code",
   "execution_count": null,
   "metadata": {},
   "outputs": [],
   "source": [
    "import re\n",
    "\n",
    "regularniVyraz = re.compile(r\"\\d{9,10}\")\n",
    "vstup = input(\"Zadej rodné číslo: \")\n",
    "hledani = regularniVyraz.fullmatch(vstup)\n",
    "if hledani:\n",
    "    print(\"Rodné číslo je v pořádku!\")\n",
    "else:\n",
    "    print(\"Nesprávné rodné číslo!\")"
   ]
  },
  {
   "cell_type": "markdown",
   "metadata": {},
   "source": [
    "### Další příklady"
   ]
  },
  {
   "cell_type": "code",
   "execution_count": null,
   "metadata": {},
   "outputs": [],
   "source": [
    "## E-maily\n",
    "\n",
    "# info@czechitas.cz\n",
    "\n",
    "import re\n",
    "\n",
    "regularniVyraz = re.compile(r\"\\w+@\\w+\\.cz\")\n",
    "\n",
    "email = input(\"Zadej e-mail: \")\n",
    "\n",
    "hledani = regularniVyraz.fullmatch(email)\n",
    "if hledani:\n",
    "    print(\"E-mail je v pořádku!\")\n",
    "else:\n",
    "    print(\"Nesprávný e-mail!\")"
   ]
  },
  {
   "cell_type": "markdown",
   "metadata": {},
   "source": [
    "### funkce `findall()`"
   ]
  },
  {
   "cell_type": "code",
   "execution_count": null,
   "metadata": {},
   "outputs": [],
   "source": [
    "zapis = \"\"\"\n",
    "Zápisy o provedených vyšetřeních:\n",
    "Pacient 6407156800 trpěl bolestí zad a byl poslán na vyšetření. \n",
    "Pacientka 8655057477 přišla na kontrolu po zranění kotníku.\n",
    "Do ordinace telefonovala pacientka 7752126712, které byl elektronicky vydán recept na Paralen. \n",
    "\"\"\"\n",
    "\n",
    "import re\n",
    "\n",
    "regularniVyraz = re.compile(r\"\\d{9,10}\")\n",
    "\n",
    "vysledky = regularniVyraz.findall(zapis)\n",
    "for vysledek in vysledky:\n",
    "    print(vysledek)\n",
    "\n",
    "\n",
    "## Poznamka: funkce findall nerozumi seskupovani pomoci kulatych zavorek"
   ]
  },
  {
   "cell_type": "markdown",
   "metadata": {},
   "source": [
    "### funkce `sub()`"
   ]
  },
  {
   "cell_type": "code",
   "execution_count": null,
   "metadata": {},
   "outputs": [],
   "source": [
    "zapis = \"\"\"\n",
    "Zápisy o provedených vyšetřeních:\n",
    "Pacient 6407156800 trpěl bolestí zad a byl poslán na vyšetření. \n",
    "Pacientka 8655057477 přišla na kontrolu po zranění kotníku.\n",
    "Do ordinace telefonovala pacientka 7752126712, které byl elektronicky vydán recept na Paralen. \n",
    "\"\"\"\n",
    "\n",
    "import re\n",
    "regularniVyraz = re.compile(r\"\\d{9,10}\")\n",
    "\n",
    "anonymniZapis = regularniVyraz.sub(\"X\" * 9, zapis)\n",
    "print(anonymniZapis)"
   ]
  }
 ],
 "metadata": {
  "interpreter": {
   "hash": "aee8b7b246df8f9039afb4144a1f6fd8d2ca17a180786b69acc140d282b71a49"
  },
  "kernelspec": {
   "display_name": "Python 3.10.1 64-bit",
   "language": "python",
   "name": "python3"
  },
  "language_info": {
   "codemirror_mode": {
    "name": "ipython",
    "version": 3
   },
   "file_extension": ".py",
   "mimetype": "text/x-python",
   "name": "python",
   "nbconvert_exporter": "python",
   "pygments_lexer": "ipython3",
   "version": "3.10.1"
  },
  "orig_nbformat": 4
 },
 "nbformat": 4,
 "nbformat_minor": 2
}
