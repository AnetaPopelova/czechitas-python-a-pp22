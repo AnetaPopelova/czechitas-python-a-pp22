{
 "cells": [
  {
   "cell_type": "markdown",
   "metadata": {},
   "source": [
    "# Lambda funkce"
   ]
  },
  {
   "cell_type": "markdown",
   "metadata": {},
   "source": [
    "Lambda funkce (též anonymní funkce) je: \n",
    "* definována přímo v místě, kde je použita a \n",
    "* nepotřebujete tedy jméno, aby byla volána. "
   ]
  },
  {
   "cell_type": "code",
   "execution_count": null,
   "metadata": {},
   "outputs": [],
   "source": [
    "## \"normalni\" funkce\n",
    "def nazev_funkce(x):\n",
    "    return x\n",
    "\n",
    "## anonymni funkce\n",
    "lambda x: x"
   ]
  },
  {
   "cell_type": "code",
   "execution_count": 17,
   "metadata": {},
   "outputs": [
    {
     "name": "stdout",
     "output_type": "stream",
     "text": [
      "15\n"
     ]
    },
    {
     "data": {
      "text/plain": [
       "15"
      ]
     },
     "execution_count": 17,
     "metadata": {},
     "output_type": "execute_result"
    }
   ],
   "source": [
    "x = lambda a : a + 10\n",
    "x(5)\n",
    "\n",
    "x = (lambda a : a + 10)(5)\n",
    "print(x)\n"
   ]
  },
  {
   "cell_type": "markdown",
   "metadata": {},
   "source": [
    "Priklad z kodim.cz"
   ]
  },
  {
   "cell_type": "code",
   "execution_count": 2,
   "metadata": {},
   "outputs": [
    {
     "name": "stdout",
     "output_type": "stream",
     "text": [
      "[{'title': 'Vrah zavolá v deset', 'sold': 5681, 'price': 299, 'year': 2019}, {'title': 'Zločinný steh', 'sold': 2565, 'price': 369, 'year': 2019}]\n"
     ]
    }
   ],
   "source": [
    "books = [\n",
    "    {\"title\": \"Zkus mě chytit\", \"sold\": 4165, \"price\": 347, \"year\": 2018},\n",
    "    {\"title\": \"Vrah zavolá v deset\", \"sold\": 5681, \"price\": 299, \"year\": 2019},\n",
    "    {\"title\": \"Zločinný steh\", \"sold\": 2565, \"price\": 369, \"year\": 2019},\n",
    "]\n",
    "\n",
    "books_2019 = list(filter(lambda item: item[\"year\"] == 2019, books))\n",
    "print(books_2019)\n",
    "\n",
    "# https://www.geeksforgeeks.org/filter-in-python/, syntax: filter(function, sequence)"
   ]
  },
  {
   "cell_type": "markdown",
   "metadata": {},
   "source": [
    "Dalsi priklady"
   ]
  },
  {
   "cell_type": "code",
   "execution_count": 4,
   "metadata": {},
   "outputs": [
    {
     "data": {
      "text/plain": [
       "'SATIHCEZC'"
      ]
     },
     "execution_count": 4,
     "metadata": {},
     "output_type": "execute_result"
    }
   ],
   "source": [
    "my_string = \"Czechitas\"\n",
    "\n",
    "## convert string to uppercase and reverse it\n",
    "\n",
    "reversed_and_upper = lambda string: string.upper()[::-1]\n",
    "print(reversed_and_upper(my_string))\n",
    "\n",
    "# (lambda string: string.upper()[::-1])(my_string)"
   ]
  },
  {
   "cell_type": "code",
   "execution_count": 4,
   "metadata": {},
   "outputs": [
    {
     "data": {
      "text/plain": [
       "'Full name: Guido Van Rossum'"
      ]
     },
     "execution_count": 4,
     "metadata": {},
     "output_type": "execute_result"
    }
   ],
   "source": [
    "full_name = lambda first, last: f'Full name: {first.title()} {last.title()}'\n",
    "full_name('guido', 'van rossum')"
   ]
  },
  {
   "cell_type": "markdown",
   "metadata": {},
   "source": [
    "Můžeme použít více argumentů."
   ]
  },
  {
   "cell_type": "code",
   "execution_count": 13,
   "metadata": {},
   "outputs": [
    {
     "name": "stdout",
     "output_type": "stream",
     "text": [
      "Součet hodnot je 30.\n"
     ]
    }
   ],
   "source": [
    "x = lambda a, b : a + b\n",
    "\n",
    "## Volání funkce\n",
    "vysledek = x(10, 20)\n",
    "print(f\"Součet hodnot je {vysledek}.\")"
   ]
  },
  {
   "cell_type": "code",
   "execution_count": 20,
   "metadata": {},
   "outputs": [
    {
     "name": "stdout",
     "output_type": "stream",
     "text": [
      "Součet hodnot je 60.\n",
      "Takhle to funguje taky:\n",
      "60\n"
     ]
    }
   ],
   "source": [
    "x = lambda a, b, c : a + b + c\n",
    "\n",
    "## Volání funkce\n",
    "vysledek = x(10, 20, 30)\n",
    "print(f\"Součet hodnot je {vysledek}.\")\n",
    "\n",
    "print(\"Takhle to funguje taky:\")\n",
    "print((lambda x, y, z: x + y + z)(10, 20, 30))"
   ]
  },
  {
   "cell_type": "markdown",
   "metadata": {},
   "source": [
    "Jsou situace, kde je potřeba funkce na „jedno“ použití někde uvnitř jiné funkce."
   ]
  },
  {
   "cell_type": "code",
   "execution_count": 36,
   "metadata": {},
   "outputs": [
    {
     "name": "stdout",
     "output_type": "stream",
     "text": [
      "Hodnota promenne f je <function calculations.<locals>.add at 0x108a64e50>.\n",
      "Volani funce f mi vrati: 6.\n"
     ]
    }
   ],
   "source": [
    "## \"normalni\" funkce\n",
    "def calculations(a, b):\n",
    "    def add(x):\n",
    "        return x * (a + b)\n",
    "\n",
    "    return add\n",
    "\n",
    "\n",
    "f = calculations(1, 2) # vysledek je funkce\n",
    "print(f\"Hodnota promenne f je {f}.\")\n",
    "\n",
    "vysledek = f(2)\n",
    "print(f\"Volani funce f mi vrati: {vysledek}.\")\n"
   ]
  },
  {
   "cell_type": "code",
   "execution_count": 38,
   "metadata": {},
   "outputs": [
    {
     "name": "stdout",
     "output_type": "stream",
     "text": [
      "Hodnota promenne a je 1.\n",
      "Hodnota promenne b je 2.\n",
      "Hodnota promenne f je <function calculations.<locals>.<lambda> at 0x108a64dc0>.\n",
      "Volani funce f mi vrati: 6.\n"
     ]
    }
   ],
   "source": [
    "def calculations(a, b):\n",
    "    return a, b, lambda x: x * (a + b)\n",
    "\n",
    "a, b, f = calculations(1, 2)\n",
    "print(f\"Hodnota promenne a je {a}.\")\n",
    "print(f\"Hodnota promenne b je {b}.\")\n",
    "print(f\"Hodnota promenne f je {f}.\")\n",
    "\n",
    "vysledek = f(2)\n",
    "print(f\"Volani funce f mi vrati: {vysledek}.\")"
   ]
  },
  {
   "cell_type": "code",
   "execution_count": 40,
   "metadata": {},
   "outputs": [
    {
     "data": {
      "text/plain": [
       "'    return a, b, lambda x: x * (a + b)\\n'"
      ]
     },
     "execution_count": 40,
     "metadata": {},
     "output_type": "execute_result"
    }
   ],
   "source": [
    "## zobrazit obsah lamda funkce\n",
    "import inspect\n",
    "inspect.getsource(f)"
   ]
  }
 ],
 "metadata": {
  "kernelspec": {
   "display_name": "Python 3.10.1 64-bit",
   "language": "python",
   "name": "python3"
  },
  "language_info": {
   "codemirror_mode": {
    "name": "ipython",
    "version": 3
   },
   "file_extension": ".py",
   "mimetype": "text/x-python",
   "name": "python",
   "nbconvert_exporter": "python",
   "pygments_lexer": "ipython3",
   "version": "3.10.1"
  },
  "orig_nbformat": 4,
  "vscode": {
   "interpreter": {
    "hash": "aee8b7b246df8f9039afb4144a1f6fd8d2ca17a180786b69acc140d282b71a49"
   }
  }
 },
 "nbformat": 4,
 "nbformat_minor": 2
}
