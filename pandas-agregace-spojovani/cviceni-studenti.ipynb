{
 "cells": [
  {
   "cell_type": "markdown",
   "metadata": {},
   "source": [
    "# Cvičení k lekci Agregace a spojování v Pandas\n",
    "\n",
    "## Studenti\n",
    "\n",
    "Stáhněte si datové sety, se kterými budeme pracovat v tomto cvičení: [jmena.csv](https://kodim.cz/czechitas/progr2-python/python-pro-data-1/agregace-a-spojovani/excs/studenti/assets/jmena.csv), [studenti1.csv](https://kodim.cz/czechitas/progr2-python/python-pro-data-1/agregace-a-spojovani/excs/studenti/assets/studenti1.csv), [studenti2.csv](https://kodim.cz/czechitas/progr2-python/python-pro-data-1/agregace-a-spojovani/excs/studenti/assets/studenti2.csv). \n",
    "\n",
    "První set už známe z minulé lekce. Druhé dva sety obsahují seznam studentů na nějaké menší IT fakultě. \n",
    "\n",
    "Proveďte následující úkoly a zodpovězte předložené otázky."
   ]
  },
  {
   "cell_type": "code",
   "execution_count": null,
   "metadata": {},
   "outputs": [],
   "source": [
    "import pandas\n",
    "\n",
    "jmena = pandas.read_csv(\"https://kodim.cz/cms/assets/kurzy/python-data-1/python-pro-data-1/agregace-a-spojovani/excs/excs%3Estudenti/jmena.csv\")\n",
    "s1 = pandas.read_csv(\"https://kodim.cz/cms/assets/kurzy/python-data-1/python-pro-data-1/agregace-a-spojovani/excs/excs%3Estudenti/studenti1.csv\")\n",
    "s2 = pandas.read_csv(\"https://kodim.cz/cms/assets/kurzy/python-data-1/python-pro-data-1/agregace-a-spojovani/excs/excs%3Estudenti/studenti2.csv\")"
   ]
  },
  {
   "cell_type": "markdown",
   "metadata": {},
   "source": [
    "Načti dva datové sety studentů do oddělených pandas DataFrame a pomocí funkce concat je spoj do jednoho setu."
   ]
  },
  {
   "cell_type": "code",
   "execution_count": null,
   "metadata": {},
   "outputs": [],
   "source": [
    "studenti1 = pandas.read_csv(\"studenti1.csv\")\n",
    "studenti2 = pandas.read_csv(\"studenti2.csv\")\n",
    "\n",
    "studenti = pandas.concat([studenti1, studenti2], ignore_index=True)"
   ]
  },
  {
   "cell_type": "markdown",
   "metadata": {},
   "source": [
    "Pokud studentovi chybí ročník, znamená to, že již nestuduje. \n",
    "\n",
    "Pokud mu chybí číslo skupiny, znamená to, že jde o dálkového studenta. \n",
    "\n",
    "Kolik studentů v datovém setu již nestuduje a kolik jsou dálkoví studenti?"
   ]
  },
  {
   "cell_type": "code",
   "execution_count": null,
   "metadata": {},
   "outputs": [],
   "source": [
    "## Hledáme VŠECHNY chybějící hodnoty\n",
    "studenti.isnull().sum()"
   ]
  },
  {
   "cell_type": "code",
   "execution_count": null,
   "metadata": {},
   "outputs": [],
   "source": [
    "# Pokud studentovi chybí ročník, znamená to, že již nestuduje. \n",
    "nestudujici = studenti[studenti[\"ročník\"].isnull()].shape[0]\n",
    "print(f\"Počet studentů, kteří nestudují: {nestudujici}\")\n",
    "\n",
    "# Pokud mu chybí číslo skupiny, znamená to, že jde o dálkového studenta. \n",
    "studenti[studenti[\"kruh\"].isnull()].shape[0]\n",
    "dalkovy_studenti = studenti[studenti[\"kruh\"].isnull()].shape[0]\n",
    "print(f\"Počet dálkových studentů: {dalkovy_studenti}\")"
   ]
  },
  {
   "cell_type": "markdown",
   "metadata": {},
   "source": [
    "Vyčisti data od studentů, kteří nestudují nebo studují jen dálkově. Nadále budeme pracovat pouze s prezenčními studenty."
   ]
  },
  {
   "cell_type": "code",
   "execution_count": null,
   "metadata": {},
   "outputs": [],
   "source": [
    "print(f\"Počet všech studentů: {studenti.shape[0]}\")\n",
    "studenti_prezencni = studenti.dropna()\n",
    "print(f\"Počet prezenčních studentů: {studenti_prezencni.shape[0]}\")\n",
    "\n",
    "## Odstranění NaN jen z jednoho sloupce\n",
    "# studenti = studenti.dropna(subset=['kruh'])\n",
    "# studenti = studenti[studenti['kruh'].notna()]\n",
    "\n",
    "## POZOR: dva studenti mají ZÁROVEŇ dálkové studium a již nestudují.\n",
    "# kombinace_nan = studenti[studenti[['kruh', 'ročník']].isna().all(1)]\n",
    "# print(kombinace_nan)"
   ]
  },
  {
   "cell_type": "markdown",
   "metadata": {},
   "source": [
    "Zjisti, kolik prezenčních studentů je v každém z oborů."
   ]
  },
  {
   "cell_type": "code",
   "execution_count": null,
   "metadata": {},
   "outputs": [],
   "source": [
    "studenti_prezencni.groupby(\"obor\")[\"jméno\"].count()\n",
    "\n",
    "## Alternativa:\n",
    "# studenti.groupby(\"obor\").size()"
   ]
  },
  {
   "cell_type": "markdown",
   "metadata": {},
   "source": [
    "Zjisti průměrný prospěch studentů v každém oboru."
   ]
  },
  {
   "cell_type": "code",
   "execution_count": null,
   "metadata": {},
   "outputs": [],
   "source": [
    "studenti.groupby(\"obor\")[\"prospěch\"].mean()"
   ]
  },
  {
   "cell_type": "markdown",
   "metadata": {},
   "source": [
    "Načti datový set s křestními jmény. \n",
    "\n",
    "Proveď join s tabulkou studentů tak, abychom věděli pohlaví jednotlivých studentů."
   ]
  },
  {
   "cell_type": "code",
   "execution_count": null,
   "metadata": {},
   "outputs": [],
   "source": [
    "#  Načtěte datový set s křestními jmény. \n",
    "jmena = pandas.read_csv(\"jmena.csv\")"
   ]
  },
  {
   "cell_type": "code",
   "execution_count": null,
   "metadata": {},
   "outputs": [],
   "source": [
    "# Proveďte join s tabulkou studentů tak, abychom věděli pohlaví jednotlivých studentů.\n",
    "studenti_plus_jmena = pandas.merge(studenti, jmena)\n",
    "print(studenti_plus_jmena.head())\n",
    "\n",
    "## Nebo jen vybrané sloupce\n",
    "## POZOR: musíme vždy vybírat všechny sloupce potrebné pro propojení\n",
    "# studenti_plus_jmena = pandas.merge(studenti[[\"jméno\", \"příjmení\"]], jmena[[\"jméno\", \"pohlaví\"]])\n",
    "\n"
   ]
  },
  {
   "cell_type": "markdown",
   "metadata": {},
   "source": [
    "Zjisti, zda na naší fakultě studují IT spíše ženy nebo spíše muži."
   ]
  },
  {
   "cell_type": "code",
   "execution_count": null,
   "metadata": {},
   "outputs": [],
   "source": [
    "studenti_plus_jmena.groupby(\"pohlaví\").size()\n",
    "\n",
    "## Alternativa:\n",
    "# studenti_plus_jmena.groupby(\"pohlaví\").count()\n",
    "# studenti_plus_jmena.groupby(\"pohlaví\")[\"jméno\"].count()"
   ]
  }
 ],
 "metadata": {
  "interpreter": {
   "hash": "aee8b7b246df8f9039afb4144a1f6fd8d2ca17a180786b69acc140d282b71a49"
  },
  "kernelspec": {
   "display_name": "Python 3.10.1 64-bit",
   "language": "python",
   "name": "python3"
  },
  "language_info": {
   "codemirror_mode": {
    "name": "ipython",
    "version": 3
   },
   "file_extension": ".py",
   "mimetype": "text/x-python",
   "name": "python",
   "nbconvert_exporter": "python",
   "pygments_lexer": "ipython3",
   "version": "3.10.1"
  },
  "orig_nbformat": 4
 },
 "nbformat": 4,
 "nbformat_minor": 2
}
